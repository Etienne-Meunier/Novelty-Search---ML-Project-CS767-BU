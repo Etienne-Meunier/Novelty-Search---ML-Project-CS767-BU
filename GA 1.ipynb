{
 "cells": [
  {
   "cell_type": "code",
   "execution_count": 162,
   "metadata": {
    "ExecuteTime": {
     "end_time": "2019-02-10T00:48:21.645946Z",
     "start_time": "2019-02-10T00:48:21.639615Z"
    },
    "button": false,
    "collapsed": true,
    "new_sheet": false,
    "run_control": {
     "read_only": false
    }
   },
   "outputs": [],
   "source": [
    "from random import randint\n",
    "import numpy as np\n",
    "import warnings\n",
    "import matplotlib.pyplot as plt\n",
    "warnings.simplefilter(action='ignore', category=FutureWarning)"
   ]
  },
  {
   "cell_type": "markdown",
   "metadata": {
    "button": false,
    "new_sheet": false,
    "run_control": {
     "read_only": false
    }
   },
   "source": [
    "# Find solution \n",
    "[x1,x2,x3,x4,x5] -> sum = y"
   ]
  },
  {
   "cell_type": "code",
   "execution_count": 163,
   "metadata": {
    "ExecuteTime": {
     "end_time": "2019-02-10T00:48:22.968328Z",
     "start_time": "2019-02-10T00:48:22.952746Z"
    },
    "button": false,
    "collapsed": true,
    "new_sheet": false,
    "run_control": {
     "read_only": false
    }
   },
   "outputs": [],
   "source": [
    "def generate_serie(n=n_x,min=0,max=100) :\n",
    "    return [randint(min,max) for i in range(0,n)]"
   ]
  },
  {
   "cell_type": "code",
   "execution_count": 164,
   "metadata": {
    "ExecuteTime": {
     "end_time": "2019-02-10T00:48:23.518159Z",
     "start_time": "2019-02-10T00:48:23.504165Z"
    },
    "button": false,
    "collapsed": true,
    "new_sheet": false,
    "run_control": {
     "read_only": false
    }
   },
   "outputs": [],
   "source": [
    "def compute_fit_serie(s,f=200) : \n",
    "    return np.linalg.norm(np.sum(s)-f)"
   ]
  },
  {
   "cell_type": "code",
   "execution_count": 165,
   "metadata": {
    "ExecuteTime": {
     "end_time": "2019-02-10T00:48:24.071772Z",
     "start_time": "2019-02-10T00:48:24.055744Z"
    },
    "button": false,
    "collapsed": true,
    "new_sheet": false,
    "run_control": {
     "read_only": false
    }
   },
   "outputs": [],
   "source": [
    "def mate(p1,p2) :\n",
    "    child = p1.copy()\n",
    "    c =np.random.choice([True,False],n_x)\n",
    "    child[c] = p2[c]\n",
    "    return child"
   ]
  },
  {
   "cell_type": "code",
   "execution_count": 174,
   "metadata": {
    "ExecuteTime": {
     "end_time": "2019-02-10T00:52:32.361850Z",
     "start_time": "2019-02-10T00:52:32.229052Z"
    },
    "button": false,
    "new_sheet": false,
    "run_control": {
     "read_only": false
    }
   },
   "outputs": [
    {
     "name": "stdout",
     "output_type": "stream",
     "text": [
      "Iterations : 12 Best Error : 0.0\n"
     ]
    }
   ],
   "source": [
    "n_x = 5\n",
    "goal = 36\n",
    "n_parents = 10\n",
    "p_selection = 0.33\n",
    "max_children = 100\n",
    "n_mutation = 1\n",
    "precision = 0.5\n",
    "iteration=0\n",
    "parents = np.array([generate_serie() for a in range(1,n_parents)])\n",
    "min_errors = []\n",
    "for a in range(0,100) : \n",
    "    iteration = iteration+1\n",
    "    ## Compute mean sum \n",
    "    min_error = np.min([compute_fit_serie(x,f=goal) for x in parents])\n",
    "    min_errors.append(min_error)\n",
    "    if min_error < precision : \n",
    "        print('Iterations : {} Best Error : {}'.format(iteration,min_error))\n",
    "        break\n",
    "    ## Do the selection \n",
    "    limit = np.sort(np.array([compute_fit_serie(p,f=goal) for p in parents]))[int(len(parents)*(1-p_selection))]\n",
    "    selection = parents[[np.array([compute_fit_serie(p,f=goal) for p in parents])<= limit]]\n",
    "    ## Create children\n",
    "    children = list()\n",
    "    while len(children) < max_children :\n",
    "        i = randint(0,len(selection)-1)\n",
    "        j = randint(0,len(selection)-1)\n",
    "        if i!=j : \n",
    "            children.append(mate(selection[i],selection[j]))\n",
    "            \n",
    "    ## Random mutations \n",
    "    for a in range(0,n_mutation) :\n",
    "        children[randint(0,max_children-1)][randint(0,n_x-1)] = randint(0,100)\n",
    "    ## Children become parents now\n",
    "    parents = np.array(children)"
   ]
  },
  {
   "cell_type": "code",
   "execution_count": 167,
   "metadata": {
    "ExecuteTime": {
     "end_time": "2019-02-10T00:48:44.487746Z",
     "start_time": "2019-02-10T00:48:44.097213Z"
    },
    "button": false,
    "new_sheet": false,
    "run_control": {
     "read_only": false
    }
   },
   "outputs": [
    {
     "data": {
      "text/plain": [
       "[<matplotlib.lines.Line2D at 0x11eb2b390>]"
      ]
     },
     "execution_count": 167,
     "metadata": {},
     "output_type": "execute_result"
    },
    {
     "data": {
      "image/png": "[encoded data removed]",
      "text/plain": [
       "<Figure size 432x288 with 1 Axes>"
      ]
     },
     "metadata": {
      "needs_background": "light"
     },
     "output_type": "display_data"
    }
   ],
   "source": [
    "plt.plot(mean_errors)"
   ]
  },
  {
   "cell_type": "code",
   "execution_count": 171,
   "metadata": {
    "ExecuteTime": {
     "end_time": "2019-02-10T00:51:29.692641Z",
     "start_time": "2019-02-10T00:51:29.671431Z"
    },
    "button": false,
    "new_sheet": false,
    "run_control": {
     "read_only": false
    }
   },
   "outputs": [
    {
     "data": {
      "text/plain": [
       "[55.0,\n",
       " 48.0,\n",
       " 13.0,\n",
       " 44.0,\n",
       " 30.0,\n",
       " 8.0,\n",
       " 4.0,\n",
       " 1.0,\n",
       " 5.0,\n",
       " 0.0,\n",
       " 1.0,\n",
       " 0.0,\n",
       " 0.0,\n",
       " 0.0,\n",
       " 0.0,\n",
       " 0.0,\n",
       " 0.0,\n",
       " 0.0,\n",
       " 0.0,\n",
       " 0.0,\n",
       " 0.0,\n",
       " 0.0,\n",
       " 0.0,\n",
       " 0.0,\n",
       " 0.0,\n",
       " 0.0,\n",
       " 0.0,\n",
       " 0.0,\n",
       " 0.0,\n",
       " 0.0,\n",
       " 0.0,\n",
       " 0.0,\n",
       " 0.0,\n",
       " 0.0,\n",
       " 0.0,\n",
       " 0.0,\n",
       " 0.0,\n",
       " 0.0,\n",
       " 0.0,\n",
       " 0.0,\n",
       " 0.0,\n",
       " 1.0,\n",
       " 1.0,\n",
       " 1.0,\n",
       " 1.0,\n",
       " 1.0,\n",
       " 1.0,\n",
       " 1.0,\n",
       " 2.0,\n",
       " 2.0,\n",
       " 2.0,\n",
       " 2.0,\n",
       " 2.0,\n",
       " 1.0,\n",
       " 2.0,\n",
       " 2.0,\n",
       " 2.0,\n",
       " 2.0,\n",
       " 2.0,\n",
       " 2.0,\n",
       " 2.0,\n",
       " 2.0,\n",
       " 2.0,\n",
       " 2.0,\n",
       " 2.0,\n",
       " 1.0,\n",
       " 1.0,\n",
       " 1.0,\n",
       " 1.0,\n",
       " 2.0,\n",
       " 2.0,\n",
       " 1.0,\n",
       " 1.0,\n",
       " 2.0,\n",
       " 2.0,\n",
       " 2.0,\n",
       " 2.0,\n",
       " 2.0,\n",
       " 2.0,\n",
       " 2.0,\n",
       " 2.0,\n",
       " 2.0,\n",
       " 2.0,\n",
       " 2.0,\n",
       " 2.0,\n",
       " 2.0,\n",
       " 2.0,\n",
       " 2.0,\n",
       " 2.0,\n",
       " 0.0,\n",
       " 0.0,\n",
       " 0.0,\n",
       " 0.0,\n",
       " 0.0,\n",
       " 0.0,\n",
       " 0.0,\n",
       " 0.0,\n",
       " 0.0,\n",
       " 0.0,\n",
       " 0.0]"
      ]
     },
     "execution_count": 171,
     "metadata": {},
     "output_type": "execute_result"
    }
   ],
   "source": [
    "min_errors"
   ]
  }
 ],
 "metadata": {
  "kernelspec": {
   "display_name": "Python 3",
   "language": "python",
   "name": "python3"
  },
  "language_info": {
   "codemirror_mode": {
    "name": "ipython",
    "version": 3
   },
   "file_extension": ".py",
   "mimetype": "text/x-python",
   "name": "python",
   "nbconvert_exporter": "python",
   "pygments_lexer": "ipython3",
   "version": "3.6.4"
  },
  "varInspector": {
   "cols": {
    "lenName": 16,
    "lenType": 16,
    "lenVar": 40
   },
   "kernels_config": {
    "python": {
     "delete_cmd_postfix": "",
     "delete_cmd_prefix": "del ",
     "library": "var_list.py",
     "varRefreshCmd": "print(var_dic_list())"
    },
    "r": {
     "delete_cmd_postfix": ") ",
     "delete_cmd_prefix": "rm(",
     "library": "var_list.r",
     "varRefreshCmd": "cat(var_dic_list()) "
    }
   },
   "types_to_exclude": [
    "module",
    "function",
    "builtin_function_or_method",
    "instance",
    "_Feature"
   ],
   "window_display": false
  }
 },
 "nbformat": 4,
 "nbformat_minor": 2
}
