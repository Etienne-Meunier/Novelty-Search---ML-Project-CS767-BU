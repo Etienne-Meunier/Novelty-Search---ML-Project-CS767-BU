{
 "cells": [
  {
   "cell_type": "markdown",
   "metadata": {},
   "source": [
    "http://math.hws.edu/xJava/GA/"
   ]
  },
  {
   "cell_type": "code",
   "execution_count": 1,
   "metadata": {
    "ExecuteTime": {
     "end_time": "2019-02-14T00:16:11.107954Z",
     "start_time": "2019-02-14T00:16:10.471138Z"
    }
   },
   "outputs": [],
   "source": [
    "import numpy as np\n",
    "import operator\n",
    "\n",
    "import matplotlib.pyplot as plt\n",
    "from matplotlib import colors"
   ]
  },
  {
   "cell_type": "markdown",
   "metadata": {},
   "source": [
    "# Create And fill map with food "
   ]
  },
  {
   "cell_type": "code",
   "execution_count": 2,
   "metadata": {
    "ExecuteTime": {
     "end_time": "2019-02-14T00:16:12.327513Z",
     "start_time": "2019-02-14T00:16:12.319549Z"
    }
   },
   "outputs": [],
   "source": [
    "wm = 30\n",
    "hm = 30\n",
    "def create_map() : \n",
    "    n_food = 100\n",
    "    Map = np.zeros((wm,hm))\n",
    "    #Setup walls\n",
    "    Map[0,:]=1\n",
    "    Map[:,0]=1\n",
    "    Map[-1,:] =1\n",
    "    Map[:,-1] =1\n",
    "    # Put food \n",
    "    for i in range(1,n_food) : Map[np.random.randint(1,hm-1),np.random.randint(1,wm-1)]=2    \n",
    "    return Map"
   ]
  },
  {
   "cell_type": "markdown",
   "metadata": {},
   "source": [
    "# Create Eaters"
   ]
  },
  {
   "cell_type": "code",
   "execution_count": 3,
   "metadata": {
    "ExecuteTime": {
     "end_time": "2019-02-14T00:16:14.215860Z",
     "start_time": "2019-02-14T00:16:14.211112Z"
    }
   },
   "outputs": [],
   "source": [
    "n_state = 16 #0...15\n",
    "n_poss_choice = 4 #0...3 0: forward 1: backward 2: turn right 3: turn left \n",
    "n_if = 4 # 0...3\n",
    "len_chromosome = 64"
   ]
  },
  {
   "cell_type": "code",
   "execution_count": 4,
   "metadata": {
    "ExecuteTime": {
     "end_time": "2019-02-14T00:16:16.512056Z",
     "start_time": "2019-02-14T00:16:16.434766Z"
    }
   },
   "outputs": [],
   "source": [
    "class Eater : \n",
    "    state = 0\n",
    "    score = 0\n",
    "    \n",
    "    def __init__(self):\n",
    "        self.position = np.random.randint(1,wm-1,(1,2))[0]\n",
    "        self.direction = np.random.randint(0,4,1) # 0 : up 1: right 2: down 3 : left\n",
    "        self.initialize_chromosome()\n",
    "        \n",
    "    def get_legacy(self,old_chromosome):\n",
    "        self.chromosome = old_chromosome\n",
    "    \n",
    "    def initialize_chromosome(self) :\n",
    "        ''' Initialize the chromosome with random actions and states\n",
    "        '''\n",
    "        self.chromosome = np.empty((len_chromosome,2),dtype=int)\n",
    "        self.chromosome[:,0]=np.random.randint(0,n_if,(len_chromosome,)) # Actions\n",
    "        self.chromosome[:,1]=np.random.randint(0,n_state,(len_chromosome,)) # States\n",
    "    \n",
    "    def do_one_step(self) : \n",
    "        [action,self.state] = self.get_decision()\n",
    "        self.act(action)\n",
    "    \n",
    "    def get_decision(self) :\n",
    "        '''\n",
    "            Return new action and state from the chromosome given a state and what is the object in front.\n",
    "            i_F ; In front\n",
    "            state : previous state \n",
    "        '''\n",
    "        if self.direction == 0 : view = [-1,0]\n",
    "        if self.direction == 1 : view = [0,1]\n",
    "        if self.direction == 2 : view = [1,0]\n",
    "        if self.direction == 3 : view = [0,-1]\n",
    "        view_pos = np.array(self.position)+np.array(view)\n",
    "        i_F = Map[view_pos[0],view_pos[1]]\n",
    "        [action,state] = self.chromosome[int(i_F*n_state+self.state),:]\n",
    "        return(action,state)\n",
    "    \n",
    "    def act(self,action) : \n",
    "        '''\n",
    "        Realize the action \n",
    "        action: #0...3 0: forward 1: backward 2: turn right 3: turn left \n",
    "        '''\n",
    "        motion = [0,0]\n",
    "        if action == 0 : \n",
    "            if self.direction == 0 : motion = [-1,0]\n",
    "            if self.direction == 1 : motion = [0,1]\n",
    "            if self.direction == 2 : motion = [1,0]\n",
    "            if self.direction == 3 : motion = [0,-1]\n",
    "        if action == 1 : \n",
    "            if self.direction == 0 : motion = [1,0]\n",
    "            if self.direction == 1 : motion = [0,-1]\n",
    "            if self.direction == 2 : motion = [-1,0]\n",
    "            if self.direction == 3 : motion = [0,1]\n",
    "        if action == 2 : \n",
    "            self.direction +=1 \n",
    "            if self.direction == 4 : self.direction =0\n",
    "        if action == 3 :\n",
    "            self.direction -=1 \n",
    "            if self.direction == -1 : self.direction =3\n",
    "        self.position = self.move(motion)\n",
    "        self.eat()\n",
    "        \n",
    "        \n",
    "    def move(self,motion):\n",
    "        n_postion = np.array(self.position)+np.array(motion)\n",
    "        if Map[n_postion[0],n_postion[1]] != 1 and Map[n_postion[0],n_postion[1]] != 3 : \n",
    "            return n_postion\n",
    "        else : return self.position\n",
    "    \n",
    "    def eat(self) : \n",
    "        if Map[self.position[0],self.position[1]] == 2 : \n",
    "            self.score +=1\n",
    "            Map[self.position[0],self.position[1]] = 0\n",
    "            Map[np.random.randint(1,hm-1),np.random.randint(1,wm-1)]=2\n",
    "\n",
    "    def mate(self,eater2) : \n",
    "        '''\n",
    "            Mate with another eater : their chromosomes crossover\n",
    "        '''\n",
    "        temp = self.chromosome.copy()\n",
    "        idx = np.random.randint(0,64)\n",
    "        temp[idx:,:] = eater2.chromosome[idx:,:]\n",
    "        return temp"
   ]
  },
  {
   "cell_type": "code",
   "execution_count": 6,
   "metadata": {
    "ExecuteTime": {
     "end_time": "2019-02-14T00:16:18.145737Z",
     "start_time": "2019-02-14T00:16:18.132947Z"
    }
   },
   "outputs": [],
   "source": [
    "def mating(eaters) : \n",
    "    children = list()\n",
    "    t =sorted(eaters,key=operator.attrgetter('score'),reverse=True)\n",
    "    selection = t[0:int(round(n_eaters*p_selection))]\n",
    "    while len(children) < max_children :\n",
    "        i = np.random.randint(0,len(selection))\n",
    "        j = np.random.randint(0,len(selection))\n",
    "        if i!=j : \n",
    "            c = selection[i].mate(selection[j])\n",
    "            child = Eater()\n",
    "            child.get_legacy(c)\n",
    "            children.append(child)\n",
    "    return children"
   ]
  },
  {
   "cell_type": "code",
   "execution_count": 7,
   "metadata": {
    "ExecuteTime": {
     "end_time": "2019-02-14T00:16:19.622720Z",
     "start_time": "2019-02-14T00:16:19.616819Z"
    }
   },
   "outputs": [],
   "source": [
    "def mutate(eaters) : \n",
    "    for i in range(0,n_mutation) : \n",
    "        eaters[np.random.randint(0,n_eaters)].chromosome[np.random.randint(0,len_chromosome),:] = [np.random.randint(0,n_if),np.random.randint(0,n_state)]"
   ]
  },
  {
   "cell_type": "markdown",
   "metadata": {},
   "source": [
    "### Graphic functions"
   ]
  },
  {
   "cell_type": "code",
   "execution_count": 8,
   "metadata": {
    "ExecuteTime": {
     "end_time": "2019-02-14T00:16:22.477056Z",
     "start_time": "2019-02-14T00:16:22.469816Z"
    }
   },
   "outputs": [],
   "source": [
    "# Custom colors for Map :\n",
    "map_colors = {1:'black',2:'green',3:'purple'}\n",
    "cvr = colors.ColorConverter()\n",
    "tmp = sorted(map_colors.keys())\n",
    "cols_rgb = [cvr.to_rgb(map_colors[k]) for k in tmp]\n",
    "intervals = np.array(tmp + [tmp[-1]+1]) - 0.5\n",
    "cmap, norm = colors.from_levels_and_colors(intervals,cols_rgb)"
   ]
  },
  {
   "cell_type": "code",
   "execution_count": 9,
   "metadata": {
    "ExecuteTime": {
     "end_time": "2019-02-14T00:16:24.919526Z",
     "start_time": "2019-02-14T00:16:24.912476Z"
    }
   },
   "outputs": [],
   "source": [
    "# Draw Map :\n",
    "def draw_map(Map) :\n",
    "    plt.imshow(Map,cmap = cmap, norm = norm)\n",
    "    plt.show()\n",
    "\n",
    "# Draw Map with Eaters\n",
    "def populated_map(Map, eaters) :\n",
    "    # Reset map with the food left (remove old eaters), However it appears as if you keep them in the eaters...\n",
    "    Map_populated = Map\n",
    "    # Add new eaters\n",
    "    for i in range(0,len(eaters)) :\n",
    "        Map_populated[eaters[i].position[0],eaters[i].position[1]] = 3\n",
    "    \n",
    "    return Map_populated"
   ]
  },
  {
   "cell_type": "markdown",
   "metadata": {},
   "source": [
    "## Algorithm execution"
   ]
  },
  {
   "cell_type": "code",
   "execution_count": 54,
   "metadata": {
    "ExecuteTime": {
     "end_time": "2019-02-13T00:55:26.008907Z",
     "start_time": "2019-02-13T00:55:25.755325Z"
    },
    "scrolled": false
   },
   "outputs": [
    {
     "name": "stdout",
     "output_type": "stream",
     "text": [
      "Starting world :\n"
     ]
    },
    {
     "data": {
      "image/png": "[encoded data removed]",
      "text/plain": [
       "<matplotlib.figure.Figure at 0x1785eadb080>"
      ]
     },
     "metadata": {},
     "output_type": "display_data"
    },
    {
     "name": "stdout",
     "output_type": "stream",
     "text": [
      "Evolutions :\n",
      "Mean Score : 1\n"
     ]
    },
    {
     "data": {
      "image/png": "[encoded data removed]",
      "text/plain": [
       "<matplotlib.figure.Figure at 0x1785c5b6358>"
      ]
     },
     "metadata": {},
     "output_type": "display_data"
    },
    {
     "name": "stdout",
     "output_type": "stream",
     "text": [
      "Mean Score : 1\n"
     ]
    },
    {
     "data": {
      "image/png": "[encoded data removed]",
      "text/plain": [
       "<matplotlib.figure.Figure at 0x1785c738b38>"
      ]
     },
     "metadata": {},
     "output_type": "display_data"
    },
    {
     "name": "stdout",
     "output_type": "stream",
     "text": [
      "Mean Score : 2\n"
     ]
    },
    {
     "data": {
      "image/png": "[encoded data removed]",
      "text/plain": [
       "<matplotlib.figure.Figure at 0x1785c93ce48>"
      ]
     },
     "metadata": {},
     "output_type": "display_data"
    },
    {
     "name": "stdout",
     "output_type": "stream",
     "text": [
      "Mean Score : 2\n"
     ]
    },
    {
     "data": {
      "image/png": "[encoded data removed]",
      "text/plain": [
       "<matplotlib.figure.Figure at 0x1785c5a6128>"
      ]
     },
     "metadata": {},
     "output_type": "display_data"
    },
    {
     "name": "stdout",
     "output_type": "stream",
     "text": [
      "Mean Score : 2\n"
     ]
    },
    {
     "data": {
      "image/png": "[encoded data removed]",
      "text/plain": [
       "<matplotlib.figure.Figure at 0x1785c2dcf98>"
      ]
     },
     "metadata": {},
     "output_type": "display_data"
    }
   ],
   "source": [
    "n_eaters = 100\n",
    "p_selection=0.33\n",
    "max_children = 100\n",
    "n_mutation = 1\n",
    "Map=create_map()\n",
    "eaters = [Eater() for e in range(1,n_eaters) ]\n",
    "# Draw starting map :\n",
    "print('Starting world :')\n",
    "draw_map(Map)\n",
    "\n",
    "print('Evolutions :')\n",
    "for i in range(0,5) :\n",
    "    for i in range(1,100) : \n",
    "        [a.do_one_step() for a in eaters]\n",
    "    print('Mean Score : {}'.format(int(np.mean([a.score for a in eaters]))))\n",
    "#     eaters = mating(eaters)\n",
    "#     mutate(eaters)\n",
    "    draw_map(populated_map(Map, eaters))"
   ]
  },
  {
   "cell_type": "code",
   "execution_count": null,
   "metadata": {},
   "outputs": [],
   "source": []
  },
  {
   "cell_type": "code",
   "execution_count": null,
   "metadata": {},
   "outputs": [],
   "source": []
  },
  {
   "cell_type": "code",
   "execution_count": null,
   "metadata": {
    "collapsed": true
   },
   "outputs": [],
   "source": []
  }
 ],
 "metadata": {
  "kernelspec": {
   "display_name": "Python 3",
   "language": "python",
   "name": "python3"
  },
  "language_info": {
   "codemirror_mode": {
    "name": "ipython",
    "version": 3
   },
   "file_extension": ".py",
   "mimetype": "text/x-python",
   "name": "python",
   "nbconvert_exporter": "python",
   "pygments_lexer": "ipython3",
   "version": "3.6.4"
  },
  "varInspector": {
   "cols": {
    "lenName": 16,
    "lenType": 16,
    "lenVar": 40
   },
   "kernels_config": {
    "python": {
     "delete_cmd_postfix": "",
     "delete_cmd_prefix": "del ",
     "library": "var_list.py",
     "varRefreshCmd": "print(var_dic_list())"
    },
    "r": {
     "delete_cmd_postfix": ") ",
     "delete_cmd_prefix": "rm(",
     "library": "var_list.r",
     "varRefreshCmd": "cat(var_dic_list()) "
    }
   },
   "types_to_exclude": [
    "module",
    "function",
    "builtin_function_or_method",
    "instance",
    "_Feature"
   ],
   "window_display": false
  }
 },
 "nbformat": 4,
 "nbformat_minor": 2
}
