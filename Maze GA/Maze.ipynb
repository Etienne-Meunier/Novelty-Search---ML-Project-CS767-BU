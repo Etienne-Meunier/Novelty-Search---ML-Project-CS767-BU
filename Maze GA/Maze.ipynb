{
 "cells": [
  {
   "cell_type": "markdown",
   "metadata": {},
   "source": [
    "# Simple Maze Resolution\n",
    "## Use Genetic Algorithm to perform Novelty Search to find the optimal solution for a given maze\n",
    "Pierre Moreau - Etienne Meunier"
   ]
  },
  {
   "cell_type": "code",
   "execution_count": 1,
   "metadata": {
    "ExecuteTime": {
     "end_time": "2019-02-21T00:58:21.275127Z",
     "start_time": "2019-02-21T00:58:20.389326Z"
    },
    "button": false,
    "new_sheet": false,
    "run_control": {
     "read_only": false
    }
   },
   "outputs": [],
   "source": [
    "import numpy as np\n",
    "import warnings\n",
    "warnings.simplefilter(action='ignore', category=FutureWarning)\n",
    "import math\n",
    "from scipy.special import comb\n",
    "import matplotlib.pyplot as plt"
   ]
  },
  {
   "cell_type": "code",
   "execution_count": 2,
   "metadata": {
    "ExecuteTime": {
     "end_time": "2019-02-21T00:58:21.298022Z",
     "start_time": "2019-02-21T00:58:21.289193Z"
    },
    "button": false,
    "new_sheet": false,
    "run_control": {
     "read_only": false
    }
   },
   "outputs": [],
   "source": [
    "def number_combinations(n,k) :\n",
    "    return math.factorial(n)/((math.factorial(n-k))*math.factorial(k))"
   ]
  },
  {
   "cell_type": "markdown",
   "metadata": {
    "button": false,
    "new_sheet": false,
    "run_control": {
     "read_only": false
    }
   },
   "source": [
    "# Define the Maze"
   ]
  },
  {
   "cell_type": "code",
   "execution_count": 3,
   "metadata": {
    "ExecuteTime": {
     "end_time": "2019-02-21T00:58:24.005304Z",
     "start_time": "2019-02-21T00:58:23.961623Z"
    },
    "button": false,
    "new_sheet": false,
    "run_control": {
     "read_only": false
    }
   },
   "outputs": [],
   "source": [
    "Maze = np.array([['#', '#', '#', '#', '#', '#', '#', '#', '#', '#', '#', '#', '#', '#', '#'],\n",
    "    ['#', ' ', ' ', ' ', ' ', ' ', ' ', ' ', ' ', ' ', ' ', ' ', ' ', ' ', '#'], \n",
    "    ['#', ' ', '#', '#', '#', '#', ' ', '#', ' ', '#', '#', '#', ' ', ' ', '#'], \n",
    "    ['#', ' ', '#', '#', '#', '#', ' ', '#', ' ', '#', '#', '#', ' ', ' ', '#'], \n",
    "    ['#', ' ', '#', '#', '#', '#', '#', '#', ' ', '#', ' ', '#', ' ', ' ', '#'],\n",
    "    ['#', 'P', '#', '#', '#', '#', ' ', ' ', ' ', '#', ' ', '#', ' ', ' ', '#'],\n",
    "    ['#', ' ', '#', '#', '#', '#', '#', '#', '#', '#', ' ', '#', '#', ' ', '#'],\n",
    "    ['#', ' ', '#', '#', '#', ' ', ' ', ' ', ' ', ' ', ' ', '#', '#', ' ', '#'],\n",
    "    ['#', ' ', ' ', ' ', ' ', ' ', '#', '#', '#', '#', ' ', ' ', '#', 'F', '#'],\n",
    "    ['#', '#', '#', '#', '#', '#', '#', '#', '#', '#', '#', '#', '#', '#', '#']])\n",
    "start_position = [5,1]"
   ]
  },
  {
   "cell_type": "code",
   "execution_count": 5,
   "metadata": {
    "ExecuteTime": {
     "end_time": "2019-02-21T00:58:34.560949Z",
     "start_time": "2019-02-21T00:58:34.555304Z"
    },
    "run_control": {}
   },
   "outputs": [
    {
     "name": "stdout",
     "output_type": "stream",
     "text": [
      "[['#' '#' '#' '#' '#' '#' '#' '#' '#' '#' '#' '#' '#' '#' '#']\n",
      " ['#' ' ' ' ' ' ' ' ' ' ' ' ' ' ' ' ' ' ' ' ' ' ' ' ' ' ' '#']\n",
      " ['#' ' ' '#' '#' '#' '#' ' ' '#' ' ' '#' '#' '#' ' ' ' ' '#']\n",
      " ['#' ' ' '#' '#' '#' '#' ' ' '#' ' ' '#' '#' '#' ' ' ' ' '#']\n",
      " ['#' ' ' '#' '#' '#' '#' '#' '#' ' ' '#' ' ' '#' ' ' ' ' '#']\n",
      " ['#' 'P' '#' '#' '#' '#' ' ' ' ' ' ' '#' ' ' '#' ' ' ' ' '#']\n",
      " ['#' ' ' '#' '#' '#' '#' '#' '#' '#' '#' ' ' '#' '#' ' ' '#']\n",
      " ['#' ' ' '#' '#' '#' ' ' ' ' ' ' ' ' ' ' ' ' '#' '#' ' ' '#']\n",
      " ['#' ' ' ' ' ' ' ' ' ' ' '#' '#' '#' '#' ' ' ' ' '#' 'F' '#']\n",
      " ['#' '#' '#' '#' '#' '#' '#' '#' '#' '#' '#' '#' '#' '#' '#']]\n"
     ]
    }
   ],
   "source": [
    "print(Maze)"
   ]
  },
  {
   "cell_type": "code",
   "execution_count": 247,
   "metadata": {
    "ExecuteTime": {
     "end_time": "2019-02-10T20:45:03.794185Z",
     "start_time": "2019-02-10T20:45:03.786584Z"
    },
    "button": false,
    "collapsed": true,
    "new_sheet": false,
    "run_control": {
     "read_only": false
    }
   },
   "outputs": [],
   "source": [
    "def draw_move(maze,gen) :\n",
    "    d_maze = maze.copy()\n",
    "    position = [5,1]\n",
    "    for l in gen :\n",
    "        position,_ = move(l,position)\n",
    "        d_maze[position[0],position[1]] = \"*\"\n",
    "        #print(d_maze)\n",
    "        #input()\n",
    "    return d_maze"
   ]
  },
  {
   "cell_type": "markdown",
   "metadata": {
    "button": false,
    "new_sheet": false,
    "run_control": {
     "read_only": false
    }
   },
   "source": [
    "# Moving Function"
   ]
  },
  {
   "cell_type": "code",
   "execution_count": 9,
   "metadata": {
    "ExecuteTime": {
     "end_time": "2019-02-10T19:18:43.136625Z",
     "start_time": "2019-02-10T19:18:43.119097Z"
    },
    "button": false,
    "collapsed": true,
    "new_sheet": false,
    "run_control": {
     "read_only": false
    }
   },
   "outputs": [],
   "source": [
    "def move(d,position) :\n",
    "    if d == 1 : \n",
    "        move_x = 0\n",
    "        move_y = -1\n",
    "    if d == 2 : \n",
    "        move_x = 0\n",
    "        move_y = 1\n",
    "    if d == 3 : \n",
    "        move_x = 1\n",
    "        move_y = 0\n",
    "    if d == 4 : \n",
    "        move_x = -1\n",
    "        move_y = 0\n",
    "    if Maze[position[0]+move_y,position[1]+move_x] == \"#\" :\n",
    "        return position,-1\n",
    "    else :\n",
    "        position[0] = position[0]+move_y\n",
    "        position[1] = position[1]+move_x\n",
    "        return position,1"
   ]
  },
  {
   "cell_type": "markdown",
   "metadata": {
    "button": false,
    "new_sheet": false,
    "run_control": {
     "read_only": false
    }
   },
   "source": [
    "# Create Genome"
   ]
  },
  {
   "cell_type": "code",
   "execution_count": 5,
   "metadata": {
    "ExecuteTime": {
     "end_time": "2019-02-10T19:08:08.942887Z",
     "start_time": "2019-02-10T19:08:08.937473Z"
    },
    "button": false,
    "collapsed": true,
    "new_sheet": false,
    "run_control": {
     "read_only": false
    }
   },
   "outputs": [],
   "source": [
    "def generation(moves = 10000) :\n",
    "    min_move = 20\n",
    "    max_move = 100\n",
    "    gen = np.random.randint(1,4,np.random.randint(min_move,max_move,1))\n",
    "    #gen = np.random.randint(1,4,moves)\n",
    "    return gen"
   ]
  },
  {
   "cell_type": "markdown",
   "metadata": {
    "button": false,
    "new_sheet": false,
    "run_control": {
     "read_only": false
    }
   },
   "source": [
    "# Evaluate the Genome "
   ]
  },
  {
   "cell_type": "markdown",
   "metadata": {},
   "source": [
    "There is several techniques to evaluate a given solution, we tried to use the number of moves only, then to penalize the fact to run into a wall. \n",
    "We end up by using the first one. "
   ]
  },
  {
   "cell_type": "code",
   "execution_count": 65,
   "metadata": {
    "ExecuteTime": {
     "end_time": "2019-02-10T19:43:50.422597Z",
     "start_time": "2019-02-10T19:43:50.415758Z"
    },
    "button": false,
    "collapsed": true,
    "new_sheet": false,
    "run_control": {
     "read_only": false
    }
   },
   "outputs": [],
   "source": [
    "def evaluate_gen(gen) :\n",
    "    position = [5,1]\n",
    "    count_move = 0\n",
    "    for d in gen : \n",
    "        count_move +=1\n",
    "        position,_ = move(d,position)\n",
    "        if Maze[position[0],position[1]]==\"F\" :\n",
    "            gen = np.delete(gen,np.s_[count_move:])\n",
    "            return gen,count_move\n",
    "    return gen,10000"
   ]
  },
  {
   "cell_type": "code",
   "execution_count": 28,
   "metadata": {
    "ExecuteTime": {
     "end_time": "2019-02-10T19:28:40.505890Z",
     "start_time": "2019-02-10T19:28:40.496537Z"
    },
    "button": false,
    "collapsed": true,
    "new_sheet": false,
    "run_control": {
     "read_only": false
    }
   },
   "outputs": [],
   "source": [
    "def evaluate_gen2(gen) :\n",
    "    position = [5,1]\n",
    "    final_position = [8,13]\n",
    "    count_move = 0\n",
    "    score = 0\n",
    "    for d in gen : \n",
    "        count_move +=1\n",
    "        position,s = move(d,position)\n",
    "        if Maze[position[0],position[1]]==\"#\" : \n",
    "            score+=1\n",
    "        if Maze[position[0],position[1]]==\"F\" :\n",
    "            gen = np.delete(gen,np.s_[count_move:])\n",
    "            return gen,score\n",
    "        score += np.abs(position[0]-final_position[0])+np.abs(position[1]-final_position[1])\n",
    "    return gen,score"
   ]
  },
  {
   "cell_type": "markdown",
   "metadata": {},
   "source": [
    "Simirarly, we tried 2 different mating techniques. "
   ]
  },
  {
   "cell_type": "code",
   "execution_count": 7,
   "metadata": {
    "ExecuteTime": {
     "end_time": "2019-02-10T19:08:12.417602Z",
     "start_time": "2019-02-10T19:08:12.411693Z"
    },
    "button": false,
    "collapsed": true,
    "new_sheet": false,
    "run_control": {
     "read_only": false
    }
   },
   "outputs": [],
   "source": [
    "def mate(p1,p2) :\n",
    "    ip1 = np.random.randint(1,len(p1))\n",
    "    ip2 = np.random.randint(1,len(p2))\n",
    "    child=np.concatenate((p1[:ip1],p2[ip2:]))\n",
    "    return child"
   ]
  },
  {
   "cell_type": "code",
   "execution_count": 8,
   "metadata": {
    "ExecuteTime": {
     "end_time": "2019-02-10T19:08:13.999064Z",
     "start_time": "2019-02-10T19:08:13.992726Z"
    },
    "button": false,
    "collapsed": true,
    "new_sheet": false,
    "run_control": {
     "read_only": false
    }
   },
   "outputs": [],
   "source": [
    "def mate2(p1,p2) :\n",
    "    child = p1.copy()\n",
    "    for idx in np.random.randint(0,min(len(p1),len(p2)),1):\n",
    "        child[idx] = p2[idx]\n",
    "    return child"
   ]
  },
  {
   "cell_type": "code",
   "execution_count": 79,
   "metadata": {
    "ExecuteTime": {
     "end_time": "2019-02-10T19:54:16.192264Z",
     "start_time": "2019-02-10T19:54:16.186654Z"
    },
    "button": false,
    "collapsed": true,
    "new_sheet": false,
    "run_control": {
     "read_only": false
    }
   },
   "outputs": [],
   "source": [
    "def mate3(p1,p2) :\n",
    "    r = np.random.random(1)[0]\n",
    "    child=np.concatenate((p1[:int(round(r*len(p1)))],p2[int(round(r*len(p2))):]))\n",
    "    return child"
   ]
  },
  {
   "cell_type": "markdown",
   "metadata": {
    "button": false,
    "new_sheet": false,
    "run_control": {
     "read_only": false
    }
   },
   "source": [
    "# Launch Selection"
   ]
  },
  {
   "cell_type": "code",
   "execution_count": null,
   "metadata": {
    "ExecuteTime": {
     "end_time": "2019-02-21T01:47:26.336633Z",
     "start_time": "2019-02-21T01:47:25.363063Z"
    },
    "button": false,
    "new_sheet": false,
    "run_control": {
     "read_only": false
    }
   },
   "outputs": [],
   "source": [
    "n_parents = 100\n",
    "p_selection = 0.33\n",
    "max_children = 100\n",
    "n_mutation = 5\n",
    "iteration=0\n",
    "parents = np.array([generation() for a in range(1,n_parents)])\n",
    "sum_succeed = []\n",
    "min_moves = []\n",
    "best_move = []\n",
    "\n",
    "for a in range(0,100) : \n",
    "    iteration = iteration+1\n",
    "    ## Compute mean sum \n",
    "    res = [evaluate_gen(x) for x in parents]\n",
    "    parents = np.array([r[0] for r in res])\n",
    "    scores = np.array([r[1] for r in res])\n",
    "    min_score= np.min(scores)\n",
    "    min_moves.append(min_score)\n",
    "    if min_score <= np.min(min_moves):\n",
    "        best_move = parents[scores==min_score]\n",
    "    ## Do the selection \n",
    "    arr1inds = np.array(scores).argsort()\n",
    "    sorted_parents = parents[arr1inds]\n",
    "    selection = sorted_parents[:int(round(len(sorted_parents)*p_selection))]\n",
    "    ## Create children\n",
    "    children = list()\n",
    "    while len(children) < max_children :\n",
    "        i = np.random.randint(0,len(selection))\n",
    "        j = np.random.randint(0,len(selection))\n",
    "        if i!=j : \n",
    "            children.append(mate2(selection[i],selection[j]))\n",
    "    ## Random mutations \n",
    "    for a in range(0,n_mutation) :\n",
    "        ind =np.random.randint(0,len(children))\n",
    "        children[ind]=np.delete(children[ind],np.random.randint(0,len(children[ind])))\n",
    "    ## Children become parents now\n",
    "    parents = np.array(children)"
   ]
  },
  {
   "cell_type": "code",
   "execution_count": 263,
   "metadata": {
    "ExecuteTime": {
     "end_time": "2019-02-11T00:45:48.802298Z",
     "start_time": "2019-02-11T00:45:48.343742Z"
    },
    "button": false,
    "new_sheet": false,
    "run_control": {
     "read_only": false
    }
   },
   "outputs": [
    {
     "data": {
      "text/plain": [
       "[<matplotlib.lines.Line2D at 0x118a58198>]"
      ]
     },
     "execution_count": 263,
     "metadata": {},
     "output_type": "execute_result"
    },
    {
     "data": {
      "image/png": "[encoded data removed]",
      "text/plain": [
       "<Figure size 432x288 with 1 Axes>"
      ]
     },
     "metadata": {
      "needs_background": "light"
     },
     "output_type": "display_data"
    }
   ],
   "source": [
    "plt.plot(min_moves)"
   ]
  },
  {
   "cell_type": "code",
   "execution_count": 261,
   "metadata": {
    "ExecuteTime": {
     "end_time": "2019-02-11T00:37:01.754991Z",
     "start_time": "2019-02-11T00:37:01.747455Z"
    },
    "button": false,
    "new_sheet": false,
    "run_control": {
     "read_only": false
    }
   },
   "outputs": [
    {
     "name": "stdout",
     "output_type": "stream",
     "text": [
      "[['#' '#' '#' '#' '#' '#' '#' '#' '#' '#' '#' '#' '#' '#' '#']\n",
      " ['#' '*' '*' '*' '*' '*' '*' '*' '*' '*' '*' '*' '*' '*' '#']\n",
      " ['#' '*' '#' '#' '#' '#' ' ' '#' ' ' '#' '#' '#' ' ' '*' '#']\n",
      " ['#' '*' '#' '#' '#' '#' ' ' '#' ' ' '#' '#' '#' ' ' '*' '#']\n",
      " ['#' '*' '#' '#' '#' '#' '#' '#' ' ' '#' ' ' '#' ' ' '*' '#']\n",
      " ['#' 'P' '#' '#' '#' '#' ' ' ' ' ' ' '#' ' ' '#' ' ' '*' '#']\n",
      " ['#' ' ' '#' '#' '#' '#' '#' '#' '#' '#' ' ' '#' '#' '*' '#']\n",
      " ['#' ' ' '#' '#' '#' ' ' ' ' ' ' ' ' ' ' ' ' '#' '#' '*' '#']\n",
      " ['#' ' ' ' ' ' ' ' ' ' ' '#' '#' '#' '#' ' ' ' ' '#' '*' '#']\n",
      " ['#' '#' '#' '#' '#' '#' '#' '#' '#' '#' '#' '#' '#' '#' '#']]\n"
     ]
    }
   ],
   "source": [
    "draw_move(Maze,best_move)"
   ]
  }
 ],
 "metadata": {
  "kernelspec": {
   "display_name": "Python 3",
   "language": "python",
   "name": "python3"
  },
  "language_info": {
   "codemirror_mode": {
    "name": "ipython",
    "version": 3
   },
   "file_extension": ".py",
   "mimetype": "text/x-python",
   "name": "python",
   "nbconvert_exporter": "python",
   "pygments_lexer": "ipython3",
   "version": "3.6.4"
  },
  "varInspector": {
   "cols": {
    "lenName": 16,
    "lenType": 16,
    "lenVar": 40
   },
   "kernels_config": {
    "python": {
     "delete_cmd_postfix": "",
     "delete_cmd_prefix": "del ",
     "library": "var_list.py",
     "varRefreshCmd": "print(var_dic_list())"
    },
    "r": {
     "delete_cmd_postfix": ") ",
     "delete_cmd_prefix": "rm(",
     "library": "var_list.r",
     "varRefreshCmd": "cat(var_dic_list()) "
    }
   },
   "types_to_exclude": [
    "module",
    "function",
    "builtin_function_or_method",
    "instance",
    "_Feature"
   ],
   "window_display": false
  }
 },
 "nbformat": 4,
 "nbformat_minor": 2
}
